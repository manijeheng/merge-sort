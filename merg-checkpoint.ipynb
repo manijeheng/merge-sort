{
 "cells": [
  {
   "cell_type": "code",
   "execution_count": 1,
   "id": "00f7b012",
   "metadata": {},
   "outputs": [],
   "source": [
    "import random"
   ]
  },
  {
   "cell_type": "code",
   "execution_count": 2,
   "id": "6038d2bc",
   "metadata": {},
   "outputs": [],
   "source": [
    "import time"
   ]
  },
  {
   "cell_type": "code",
   "execution_count": 3,
   "id": "c8e92828",
   "metadata": {},
   "outputs": [],
   "source": [
    "# ساخت آرایه بین صفر تا صد هزار"
   ]
  },
  {
   "cell_type": "code",
   "execution_count": 13,
   "id": "37604719",
   "metadata": {},
   "outputs": [],
   "source": [
    "for i in range(10000):\n",
    "    array = [random.randint(0,100000)]"
   ]
  },
  {
   "cell_type": "code",
   "execution_count": 14,
   "id": "4154c090",
   "metadata": {
    "scrolled": true
   },
   "outputs": [
    {
     "name": "stdout",
     "output_type": "stream",
     "text": [
      "زمان مرتب سازی :0.0 \n"
     ]
    }
   ],
   "source": [
    "i = j = k =0\n",
    "def merge_sort(arr):\n",
    "    if len(arr) > 1:\n",
    "        mid = len(arr) // 2\n",
    "        left_half = arr[:mid]\n",
    "        right_half = arr[mid:]\n",
    "\n",
    "        merge_sort(left_half)\n",
    "        merge_sort(right_half)\n",
    "\n",
    "        i = j = k = 0\n",
    "\n",
    "        while i < len(left_half) and j < len(right_half):\n",
    "            if left_half[i] < right_half[j]:\n",
    "                arr[k] = left_half[i]\n",
    "                i += 1\n",
    "            else:\n",
    "                arr[k] = right_half[j]\n",
    "                j += 1\n",
    "            k += 1\n",
    "\n",
    "        while i < len(left_half):\n",
    "            arr[k] = left_half[i]\n",
    "            i += 1\n",
    "            k += 1\n",
    "\n",
    "        while j < len(right_half):\n",
    "            arr[k] = right_half[j]\n",
    "            j += 1\n",
    "            k += 1\n",
    "\n",
    "# محاسبه زمان مرتب‌سازی\n",
    "start_time = time.time()\n",
    "merge_sort(array)\n",
    "end_time = time.time()\n",
    "\n",
    "print(f\"زمان مرتب سازی :{end_time - start_time} \")"
   ]
  },
  {
   "cell_type": "code",
   "execution_count": null,
   "id": "fd93c846",
   "metadata": {},
   "outputs": [],
   "source": []
  }
 ],
 "metadata": {
  "kernelspec": {
   "display_name": "Python 3 (ipykernel)",
   "language": "python",
   "name": "python3"
  },
  "language_info": {
   "codemirror_mode": {
    "name": "ipython",
    "version": 3
   },
   "file_extension": ".py",
   "mimetype": "text/x-python",
   "name": "python",
   "nbconvert_exporter": "python",
   "pygments_lexer": "ipython3",
   "version": "3.11.5"
  }
 },
 "nbformat": 4,
 "nbformat_minor": 5
}
